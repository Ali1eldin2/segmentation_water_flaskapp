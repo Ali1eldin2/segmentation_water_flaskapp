{
 "cells": [
  {
   "cell_type": "code",
   "execution_count": 1,
   "id": "35e7f93d",
   "metadata": {},
   "outputs": [
    {
     "name": "stderr",
     "output_type": "stream",
     "text": [
      "d:\\anconda\\envs\\segformer\\Lib\\site-packages\\tqdm\\auto.py:21: TqdmWarning: IProgress not found. Please update jupyter and ipywidgets. See https://ipywidgets.readthedocs.io/en/stable/user_install.html\n",
      "  from .autonotebook import tqdm as notebook_tqdm\n"
     ]
    }
   ],
   "source": [
    "# 1. Imports\n",
    "# ---------------------------\n",
    "import os\n",
    "from PIL import Image\n",
    "import torch\n",
    "from torch.utils.data import Dataset, DataLoader, random_split\n",
    "from transformers import SegformerForSemanticSegmentation, SegformerImageProcessor, Trainer, TrainingArguments\n",
    "import numpy as np"
   ]
  },
  {
   "cell_type": "code",
   "execution_count": 17,
   "id": "df034e5a",
   "metadata": {},
   "outputs": [],
   "source": [
    "import os\n",
    "from torch.utils.data import Dataset\n",
    "from PIL import Image\n",
    "import torchvision.transforms as transforms\n",
    "\n",
    "class SegmentationDataset(Dataset):\n",
    "    def __init__(self, image_dir, mask_dir, transform=None):\n",
    "        self.image_dir = image_dir\n",
    "        self.mask_dir = mask_dir\n",
    "        self.images = sorted(os.listdir(image_dir))\n",
    "        self.masks = sorted(os.listdir(mask_dir))\n",
    "        self.transform = transform\n",
    "\n",
    "    def __len__(self):\n",
    "        return len(self.images)\n",
    "\n",
    "    def __getitem__(self, idx):\n",
    "        img_path = os.path.join(self.image_dir, self.images[idx])\n",
    "        mask_path = os.path.join(self.mask_dir, self.masks[idx])\n",
    "        image = Image.open(img_path).convert(\"RGB\")\n",
    "        mask = Image.open(mask_path).convert(\"L\")  # grayscale\n",
    "\n",
    "        if self.transform:\n",
    "            image = self.transform(image)\n",
    "            mask = self.transform(mask)\n",
    "\n",
    "        return image, mask\n",
    "\n",
    "# Example usage\n",
    "transform = transforms.Compose([\n",
    "    transforms.Resize((256, 256)),\n",
    "    transforms.ToTensor()\n",
    "])\n",
    "\n",
    "dataset = SegmentationDataset(r\"D:\\cellula\\task_2\\data\\images_png\", r\"D:\\cellula\\task_2\\data\\labels\", transform=transform)"
   ]
  },
  {
   "cell_type": "code",
   "execution_count": 20,
   "id": "0a702af6",
   "metadata": {},
   "outputs": [
    {
     "name": "stdout",
     "output_type": "stream",
     "text": [
      "Training samples: 244\n",
      "Validation samples: 62\n"
     ]
    }
   ],
   "source": [
    "import os\n",
    "from sklearn.model_selection import train_test_split\n",
    "\n",
    "# List all images and masks\n",
    "images = sorted(os.listdir(r\"D:\\cellula\\task_2\\data\\images_png\"))\n",
    "masks = sorted(os.listdir(r\"D:\\cellula\\task_2\\data\\labels\"))\n",
    "\n",
    "# Split into train and validation\n",
    "train_imgs, val_imgs, train_masks, val_masks = train_test_split(\n",
    "    images, masks, test_size=0.2, random_state=42\n",
    ")\n",
    "\n",
    "# Optional: print dataset sizes\n",
    "print(f\"Training samples: {len(train_imgs)}\")\n",
    "print(f\"Validation samples: {len(val_imgs)}\")\n"
   ]
  },
  {
   "cell_type": "code",
   "execution_count": 21,
   "id": "b7ad468b",
   "metadata": {},
   "outputs": [],
   "source": [
    "import torchvision.transforms as transforms\n",
    "from torch.utils.data import Dataset\n",
    "from PIL import Image\n",
    "\n",
    "class SegmentationDataset(Dataset):\n",
    "    def __init__(self, image_dir, mask_dir, images_list, masks_list, transform=None):\n",
    "        self.image_dir = image_dir\n",
    "        self.mask_dir = mask_dir\n",
    "        self.images = images_list\n",
    "        self.masks = masks_list\n",
    "        self.transform = transform\n",
    "\n",
    "    def __len__(self):\n",
    "        return len(self.images)\n",
    "\n",
    "    def __getitem__(self, idx):\n",
    "        img_path = os.path.join(self.image_dir, self.images[idx])\n",
    "        mask_path = os.path.join(self.mask_dir, self.masks[idx])\n",
    "        image = Image.open(img_path).convert(\"RGB\")\n",
    "        mask = Image.open(mask_path).convert(\"L\")  # grayscale mask\n",
    "\n",
    "        if self.transform:\n",
    "            image = self.transform(image)\n",
    "            mask = self.transform(mask)\n",
    "\n",
    "        return image, mask\n",
    "\n",
    "# Example transform\n",
    "transform = transforms.Compose([\n",
    "    transforms.Resize((256, 256)),\n",
    "    transforms.ToTensor()\n",
    "])\n",
    "\n",
    "# Create datasets\n",
    "train_dataset = SegmentationDataset(r\"D:\\cellula\\task_2\\data\\images_png\", r\"D:\\cellula\\task_2\\data\\labels\", train_imgs, train_masks, transform)\n",
    "val_dataset = SegmentationDataset(r\"D:\\cellula\\task_2\\data\\images_png\", r\"D:\\cellula\\task_2\\data\\labels\", val_imgs, val_masks, transform)\n"
   ]
  },
  {
   "cell_type": "code",
   "execution_count": 22,
   "id": "fda4613a",
   "metadata": {},
   "outputs": [],
   "source": [
    "from torch.utils.data import DataLoader\n",
    "\n",
    "train_loader = DataLoader(train_dataset, batch_size=8, shuffle=True)\n",
    "val_loader = DataLoader(val_dataset, batch_size=8, shuffle=False)\n"
   ]
  },
  {
   "cell_type": "code",
   "execution_count": 23,
   "id": "c9c7ce31",
   "metadata": {},
   "outputs": [],
   "source": [
    "train_transform = transforms.Compose([\n",
    "    transforms.Resize((256, 256)),\n",
    "    transforms.RandomHorizontalFlip(),\n",
    "    transforms.RandomRotation(15),\n",
    "    transforms.ColorJitter(brightness=0.2, contrast=0.2),\n",
    "    transforms.ToTensor()\n",
    "])\n"
   ]
  },
  {
   "cell_type": "code",
   "execution_count": 24,
   "id": "d66d11d9",
   "metadata": {},
   "outputs": [
    {
     "name": "stderr",
     "output_type": "stream",
     "text": [
      "'(ProtocolError('Connection aborted.', RemoteDisconnected('Remote end closed connection without response')), '(Request ID: 76181c51-9d4c-4b2e-851a-c58cbe8e7ff1)')' thrown while requesting HEAD https://huggingface.co/nvidia/segformer-b0-finetuned-ade-512-512/resolve/main/preprocessor_config.json\n",
      "Retrying in 1s [Retry 1/5].\n",
      "d:\\anconda\\envs\\segformer\\Lib\\site-packages\\transformers\\models\\segformer\\feature_extraction_segformer.py:30: FutureWarning: The class SegformerFeatureExtractor is deprecated and will be removed in version 5 of Transformers. Please use SegformerImageProcessor instead.\n",
      "  warnings.warn(\n",
      "d:\\anconda\\envs\\segformer\\Lib\\site-packages\\transformers\\models\\segformer\\feature_extraction_segformer.py:35: UserWarning: The following named arguments are not valid for `SegformerFeatureExtractor.__init__` and were ignored: 'feature_extractor_type', 'reduce_labels'\n",
      "  super().__init__(*args, **kwargs)\n"
     ]
    }
   ],
   "source": [
    "from transformers import SegformerFeatureExtractor, SegformerForSemanticSegmentation\n",
    "import torch\n",
    "\n",
    "model_name = \"nvidia/segformer-b0-finetuned-ade-512-512\"\n",
    "\n",
    "# Load feature extractor (handles image preprocessing)\n",
    "feature_extractor = SegformerFeatureExtractor.from_pretrained(model_name)\n",
    "\n",
    "# Load pretrained model\n",
    "model = SegformerForSemanticSegmentation.from_pretrained(model_name)"
   ]
  },
  {
   "cell_type": "code",
   "execution_count": null,
   "id": "42bdb6f6",
   "metadata": {},
   "outputs": [
    {
     "ename": "KeyboardInterrupt",
     "evalue": "",
     "output_type": "error",
     "traceback": [
      "\u001b[31m---------------------------------------------------------------------------\u001b[39m",
      "\u001b[31mKeyboardInterrupt\u001b[39m                         Traceback (most recent call last)",
      "\u001b[36mCell\u001b[39m\u001b[36m \u001b[39m\u001b[32mIn[44]\u001b[39m\u001b[32m, line 23\u001b[39m\n\u001b[32m     20\u001b[39m     loss = criterion(outputs, masks)\n\u001b[32m     22\u001b[39m     optimizer.zero_grad()\n\u001b[32m---> \u001b[39m\u001b[32m23\u001b[39m     \u001b[43mloss\u001b[49m\u001b[43m.\u001b[49m\u001b[43mbackward\u001b[49m\u001b[43m(\u001b[49m\u001b[43m)\u001b[49m\n\u001b[32m     24\u001b[39m     optimizer.step()\n\u001b[32m     26\u001b[39m \u001b[38;5;28mprint\u001b[39m(\u001b[33mf\u001b[39m\u001b[33m\"\u001b[39m\u001b[33mEpoch \u001b[39m\u001b[38;5;132;01m{\u001b[39;00mepoch+\u001b[32m1\u001b[39m\u001b[38;5;132;01m}\u001b[39;00m\u001b[33m - Loss: \u001b[39m\u001b[38;5;132;01m{\u001b[39;00mloss.item()\u001b[38;5;132;01m:\u001b[39;00m\u001b[33m.4f\u001b[39m\u001b[38;5;132;01m}\u001b[39;00m\u001b[33m\"\u001b[39m)\n",
      "\u001b[36mFile \u001b[39m\u001b[32md:\\anconda\\envs\\segformer\\Lib\\site-packages\\torch\\_tensor.py:581\u001b[39m, in \u001b[36mTensor.backward\u001b[39m\u001b[34m(self, gradient, retain_graph, create_graph, inputs)\u001b[39m\n\u001b[32m    571\u001b[39m \u001b[38;5;28;01mif\u001b[39;00m has_torch_function_unary(\u001b[38;5;28mself\u001b[39m):\n\u001b[32m    572\u001b[39m     \u001b[38;5;28;01mreturn\u001b[39;00m handle_torch_function(\n\u001b[32m    573\u001b[39m         Tensor.backward,\n\u001b[32m    574\u001b[39m         (\u001b[38;5;28mself\u001b[39m,),\n\u001b[32m   (...)\u001b[39m\u001b[32m    579\u001b[39m         inputs=inputs,\n\u001b[32m    580\u001b[39m     )\n\u001b[32m--> \u001b[39m\u001b[32m581\u001b[39m \u001b[43mtorch\u001b[49m\u001b[43m.\u001b[49m\u001b[43mautograd\u001b[49m\u001b[43m.\u001b[49m\u001b[43mbackward\u001b[49m\u001b[43m(\u001b[49m\n\u001b[32m    582\u001b[39m \u001b[43m    \u001b[49m\u001b[38;5;28;43mself\u001b[39;49m\u001b[43m,\u001b[49m\u001b[43m \u001b[49m\u001b[43mgradient\u001b[49m\u001b[43m,\u001b[49m\u001b[43m \u001b[49m\u001b[43mretain_graph\u001b[49m\u001b[43m,\u001b[49m\u001b[43m \u001b[49m\u001b[43mcreate_graph\u001b[49m\u001b[43m,\u001b[49m\u001b[43m \u001b[49m\u001b[43minputs\u001b[49m\u001b[43m=\u001b[49m\u001b[43minputs\u001b[49m\n\u001b[32m    583\u001b[39m \u001b[43m\u001b[49m\u001b[43m)\u001b[49m\n",
      "\u001b[36mFile \u001b[39m\u001b[32md:\\anconda\\envs\\segformer\\Lib\\site-packages\\torch\\autograd\\__init__.py:347\u001b[39m, in \u001b[36mbackward\u001b[39m\u001b[34m(tensors, grad_tensors, retain_graph, create_graph, grad_variables, inputs)\u001b[39m\n\u001b[32m    342\u001b[39m     retain_graph = create_graph\n\u001b[32m    344\u001b[39m \u001b[38;5;66;03m# The reason we repeat the same comment below is that\u001b[39;00m\n\u001b[32m    345\u001b[39m \u001b[38;5;66;03m# some Python versions print out the first line of a multi-line function\u001b[39;00m\n\u001b[32m    346\u001b[39m \u001b[38;5;66;03m# calls in the traceback and some print out the last line\u001b[39;00m\n\u001b[32m--> \u001b[39m\u001b[32m347\u001b[39m \u001b[43m_engine_run_backward\u001b[49m\u001b[43m(\u001b[49m\n\u001b[32m    348\u001b[39m \u001b[43m    \u001b[49m\u001b[43mtensors\u001b[49m\u001b[43m,\u001b[49m\n\u001b[32m    349\u001b[39m \u001b[43m    \u001b[49m\u001b[43mgrad_tensors_\u001b[49m\u001b[43m,\u001b[49m\n\u001b[32m    350\u001b[39m \u001b[43m    \u001b[49m\u001b[43mretain_graph\u001b[49m\u001b[43m,\u001b[49m\n\u001b[32m    351\u001b[39m \u001b[43m    \u001b[49m\u001b[43mcreate_graph\u001b[49m\u001b[43m,\u001b[49m\n\u001b[32m    352\u001b[39m \u001b[43m    \u001b[49m\u001b[43minputs\u001b[49m\u001b[43m,\u001b[49m\n\u001b[32m    353\u001b[39m \u001b[43m    \u001b[49m\u001b[43mallow_unreachable\u001b[49m\u001b[43m=\u001b[49m\u001b[38;5;28;43;01mTrue\u001b[39;49;00m\u001b[43m,\u001b[49m\n\u001b[32m    354\u001b[39m \u001b[43m    \u001b[49m\u001b[43maccumulate_grad\u001b[49m\u001b[43m=\u001b[49m\u001b[38;5;28;43;01mTrue\u001b[39;49;00m\u001b[43m,\u001b[49m\n\u001b[32m    355\u001b[39m \u001b[43m\u001b[49m\u001b[43m)\u001b[49m\n",
      "\u001b[36mFile \u001b[39m\u001b[32md:\\anconda\\envs\\segformer\\Lib\\site-packages\\torch\\autograd\\graph.py:825\u001b[39m, in \u001b[36m_engine_run_backward\u001b[39m\u001b[34m(t_outputs, *args, **kwargs)\u001b[39m\n\u001b[32m    823\u001b[39m     unregister_hooks = _register_logging_hooks_on_whole_graph(t_outputs)\n\u001b[32m    824\u001b[39m \u001b[38;5;28;01mtry\u001b[39;00m:\n\u001b[32m--> \u001b[39m\u001b[32m825\u001b[39m     \u001b[38;5;28;01mreturn\u001b[39;00m \u001b[43mVariable\u001b[49m\u001b[43m.\u001b[49m\u001b[43m_execution_engine\u001b[49m\u001b[43m.\u001b[49m\u001b[43mrun_backward\u001b[49m\u001b[43m(\u001b[49m\u001b[43m  \u001b[49m\u001b[38;5;66;43;03m# Calls into the C++ engine to run the backward pass\u001b[39;49;00m\n\u001b[32m    826\u001b[39m \u001b[43m        \u001b[49m\u001b[43mt_outputs\u001b[49m\u001b[43m,\u001b[49m\u001b[43m \u001b[49m\u001b[43m*\u001b[49m\u001b[43margs\u001b[49m\u001b[43m,\u001b[49m\u001b[43m \u001b[49m\u001b[43m*\u001b[49m\u001b[43m*\u001b[49m\u001b[43mkwargs\u001b[49m\n\u001b[32m    827\u001b[39m \u001b[43m    \u001b[49m\u001b[43m)\u001b[49m  \u001b[38;5;66;03m# Calls into the C++ engine to run the backward pass\u001b[39;00m\n\u001b[32m    828\u001b[39m \u001b[38;5;28;01mfinally\u001b[39;00m:\n\u001b[32m    829\u001b[39m     \u001b[38;5;28;01mif\u001b[39;00m attach_logging_hooks:\n",
      "\u001b[31mKeyboardInterrupt\u001b[39m: "
     ]
    }
   ],
   "source": [
    "#from torch import nn, optim\n",
    "\n",
    "device = \"cuda\" if torch.cuda.is_available() else \"cpu\"\n",
    "model.to(device)\n",
    "\n",
    "optimizer = optim.Adam(model.parameters(), lr=5e-5)\n",
    "criterion = nn.CrossEntropyLoss()  # for segmentation masks\n",
    "\n",
    "for epoch in range(5):  # example: 5 epochs\n",
    "    model.train()\n",
    "    for pixel_values, masks in train_loader:\n",
    "        pixel_values = pixel_values.to(device)\n",
    "        masks = masks.to(device)\n",
    "\n",
    "        if masks.ndim == 4:\n",
    "            masks = masks.squeeze(1)  # shape: [batch, H, W]\n",
    " \n",
    "\n",
    "        outputs = model(pixel_values=pixel_values).logits\n",
    "        loss = criterion(outputs, masks)\n",
    "\n",
    "        optimizer.zero_grad()\n",
    "        loss.backward()\n",
    "        optimizer.step()\n",
    "\n",
    "    print(f\"Epoch {epoch+1} - Loss: {loss.item():.4f}\")\n"
   ]
  },
  {
   "cell_type": "code",
   "execution_count": null,
   "id": "3d978b3a",
   "metadata": {},
   "outputs": [],
   "source": [
    "for pixel_values, masks in train_loader:\n",
    "    pixel_values = pixel_values.to(device)\n",
    "    masks = masks.to(device)\n",
    "\n",
    "    # Remove channel if exists\n",
    "    if masks.ndim == 4:\n",
    "        masks = masks.squeeze(1)  # [batch, H, W]\n",
    "\n",
    "    # Forward pass\n",
    "    outputs = model(pixel_values=pixel_values).logits  # [B, C, H_out, W_out]\n",
    "\n",
    "    # Resize masks to match output\n",
    "    masks_resized = F.interpolate(masks.unsqueeze(1).float(), size=outputs.shape[2:], mode='nearest').squeeze(1).long()\n",
    "\n",
    "    loss = criterion(outputs, masks_resized)\n",
    "\n",
    "    optimizer.zero_grad()\n",
    "    loss.backward()\n",
    "    optimizer.step()"
   ]
  },
  {
   "cell_type": "code",
   "execution_count": 45,
   "id": "5b216f46",
   "metadata": {},
   "outputs": [
    {
     "name": "stdout",
     "output_type": "stream",
     "text": [
      "Epoch 1 - Loss: 1.0233\n",
      "Epoch 2 - Loss: 0.2520\n",
      "Epoch 3 - Loss: 0.3819\n",
      "Epoch 4 - Loss: 0.4989\n",
      "Epoch 5 - Loss: 0.4939\n",
      "Epoch 6 - Loss: 0.3260\n",
      "Epoch 7 - Loss: 0.1738\n",
      "Epoch 8 - Loss: 0.3083\n",
      "Epoch 9 - Loss: 0.4225\n",
      "Epoch 10 - Loss: 0.1439\n",
      "Epoch 11 - Loss: 0.2189\n",
      "Epoch 12 - Loss: 0.3472\n",
      "Epoch 13 - Loss: 0.3221\n",
      "Epoch 14 - Loss: 0.3825\n",
      "Epoch 15 - Loss: 0.2020\n",
      "Epoch 16 - Loss: 0.1293\n",
      "Epoch 17 - Loss: 0.1646\n",
      "Epoch 18 - Loss: 0.1835\n",
      "Epoch 19 - Loss: 0.2257\n",
      "Epoch 20 - Loss: 0.5247\n",
      "Epoch 21 - Loss: 0.2409\n",
      "Epoch 22 - Loss: 0.1454\n",
      "Epoch 23 - Loss: 0.1398\n",
      "Epoch 24 - Loss: 0.1636\n",
      "Epoch 25 - Loss: 0.2370\n"
     ]
    }
   ],
   "source": [
    "from torch import nn, optim\n",
    "import torch.nn.functional as F\n",
    "\n",
    "device = \"cuda\" if torch.cuda.is_available() else \"cpu\"\n",
    "model.to(device)\n",
    "\n",
    "optimizer = optim.Adam(model.parameters(), lr=5e-5)\n",
    "criterion = nn.CrossEntropyLoss()  # for segmentation masks\n",
    "\n",
    "for epoch in range(25):  # example: 5 epochs\n",
    "    model.train()\n",
    "    for pixel_values, masks in train_loader:\n",
    "        pixel_values = pixel_values.to(device)\n",
    "        masks = masks.to(device)\n",
    "\n",
    "        if masks.ndim == 4:\n",
    "            masks = masks.squeeze(1)  # shape: [batch, H, W]\n",
    "\n",
    "            # Forward pass\n",
    "        outputs = model(pixel_values=pixel_values).logits  # [B, C, H_out, W_out]\n",
    "\n",
    "        masks_resized = F.interpolate(masks.unsqueeze(1).float(), size=outputs.shape[2:], mode='nearest').squeeze(1).long()\n",
    "        loss = criterion(outputs, masks_resized)\n",
    "\n",
    "       \n",
    "\n",
    "        optimizer.zero_grad()\n",
    "        loss.backward()\n",
    "        optimizer.step()\n",
    "\n",
    "    print(f\"Epoch {epoch+1} - Loss: {loss.item():.4f}\")\n"
   ]
  },
  {
   "cell_type": "code",
   "execution_count": 46,
   "id": "c1cfc6eb",
   "metadata": {},
   "outputs": [],
   "source": [
    "def dice_score(preds, targets, smooth=1e-6):\n",
    "    preds = torch.argmax(preds, dim=1)\n",
    "    intersection = (preds * targets).sum()\n",
    "    return (2. * intersection + smooth) / (preds.sum() + targets.sum() + smooth)\n"
   ]
  },
  {
   "cell_type": "code",
   "execution_count": 47,
   "id": "30ac4060",
   "metadata": {},
   "outputs": [],
   "source": [
    "torch.save(model.state_dict(), \"segformer_finetuned.pth\")"
   ]
  },
  {
   "cell_type": "code",
   "execution_count": 48,
   "id": "b4b2a9b4",
   "metadata": {},
   "outputs": [],
   "source": [
    "model.eval()\n",
    "with torch.no_grad():\n",
    "    imgs, masks = next(iter(val_loader))\n",
    "    imgs = imgs.to(device)\n",
    "    outputs = model(pixel_values=imgs).logits\n",
    "    preds = torch.argmax(outputs, dim=1).cpu().numpy()\n"
   ]
  },
  {
   "cell_type": "code",
   "execution_count": 49,
   "id": "14396e5b",
   "metadata": {},
   "outputs": [],
   "source": [
    "class SegmentationHFDataset(Dataset):\n",
    "    def __init__(self, image_list, mask_list, image_dir, mask_dir, feature_extractor):\n",
    "        self.image_list = image_list\n",
    "        self.mask_list = mask_list\n",
    "        self.image_dir = image_dir\n",
    "        self.mask_dir = mask_dir\n",
    "        self.feature_extractor = feature_extractor\n",
    "\n",
    "    def __len__(self):\n",
    "        return len(self.image_list)\n",
    "\n",
    "    def __getitem__(self, idx):\n",
    "        img_path = f\"{self.image_dir}/{self.image_list[idx]}\"\n",
    "        mask_path = f\"{self.mask_dir}/{self.mask_list[idx]}\"\n",
    "\n",
    "        from PIL import Image\n",
    "        import numpy as np\n",
    "        import torch\n",
    "\n",
    "        # Load image and mask\n",
    "        image = np.array(Image.open(img_path).convert(\"RGB\"))\n",
    "        mask = np.array(Image.open(mask_path).convert(\"L\"), dtype=np.int64)  # class indices\n",
    "\n",
    "        # Preprocess image\n",
    "        encoding = self.feature_extractor(images=image, return_tensors=\"pt\")\n",
    "        pixel_values = encoding[\"pixel_values\"].squeeze(0)  # remove batch dim\n",
    "\n",
    "        # Convert mask to tensor\n",
    "        mask_tensor = torch.tensor(mask, dtype=torch.long)\n",
    "\n",
    "        return pixel_values, mask_tensor\n"
   ]
  },
  {
   "cell_type": "code",
   "execution_count": 50,
   "id": "020d5b8c",
   "metadata": {},
   "outputs": [],
   "source": [
    "train_dataset = SegmentationHFDataset(train_imgs, train_masks, r\"data\\images_png\", r\"D:\\cellula\\task_2\\data\\labels\", feature_extractor)\n",
    "train_loader = DataLoader(train_dataset, batch_size=4, shuffle=True)\n"
   ]
  },
  {
   "cell_type": "code",
   "execution_count": 51,
   "id": "b3a083c7",
   "metadata": {},
   "outputs": [
    {
     "name": "stdout",
     "output_type": "stream",
     "text": [
      "<class 'torch.Tensor'> torch.Size([4, 3, 512, 512])\n"
     ]
    }
   ],
   "source": [
    "images, masks = next(iter(train_loader))\n",
    "print(type(images), images.shape)  # should be torch.Tensor\n"
   ]
  },
  {
   "cell_type": "code",
   "execution_count": 52,
   "id": "35e9e5e0",
   "metadata": {},
   "outputs": [],
   "source": [
    "images_np = images.permute(0, 2, 3, 1).cpu().numpy()\n",
    "masks_np = masks.cpu().numpy()\n",
    "outputs = model(pixel_values=images.to(device)).logits\n",
    "preds_np = torch.argmax(outputs, dim=1).cpu().numpy()"
   ]
  },
  {
   "cell_type": "code",
   "execution_count": 53,
   "id": "1cb4dd9b",
   "metadata": {},
   "outputs": [
    {
     "name": "stderr",
     "output_type": "stream",
     "text": [
      "Clipping input data to the valid range for imshow with RGB data ([0..1] for floats or [0..255] for integers). Got range [-1.7411594..2.465708].\n"
     ]
    },
    {
     "data": {
      "image/png": "[encoded data removed]",
      "text/plain": [
       "<Figure size 1500x500 with 3 Axes>"
      ]
     },
     "metadata": {},
     "output_type": "display_data"
    }
   ],
   "source": [
    "import matplotlib.pyplot as plt\n",
    "import torch\n",
    "\n",
    "model.eval()\n",
    "with torch.no_grad():\n",
    "    # Assume images and masks are already tensors\n",
    "    images = images.to(device)\n",
    "    masks = masks.to(device)\n",
    "\n",
    "    # Forward pass\n",
    "    outputs = model(pixel_values=images).logits\n",
    "    preds = torch.argmax(outputs, dim=1)  # [B, H, W]\n",
    "\n",
    "    # Convert to NumPy for plotting\n",
    "    images_np = images.cpu().permute(0, 2, 3, 1).numpy()\n",
    "    masks_np = masks.cpu().numpy()\n",
    "    preds_np = preds.cpu().numpy()\n",
    "\n",
    "# Visualize first image in batch\n",
    "batch_idx = 0\n",
    "fig, axs = plt.subplots(1, 3, figsize=(15, 5))\n",
    "\n",
    "axs[0].imshow(images_np[batch_idx])\n",
    "axs[0].set_title(\"Input Image\")\n",
    "axs[0].axis(\"off\")\n",
    "\n",
    "axs[1].imshow(masks_np[batch_idx], cmap=\"gray\")\n",
    "axs[1].set_title(\"Ground Truth Mask\")\n",
    "axs[1].axis(\"off\")\n",
    "\n",
    "axs[2].imshow(preds_np[batch_idx], cmap=\"gray\")\n",
    "axs[2].set_title(\"Predicted Mask\")\n",
    "axs[2].axis(\"off\")\n",
    "\n",
    "plt.show()\n"
   ]
  },
  {
   "cell_type": "code",
   "execution_count": null,
   "id": "9ee0eec7",
   "metadata": {},
   "outputs": [],
   "source": []
  },
  {
   "cell_type": "code",
   "execution_count": null,
   "id": "a41205d7",
   "metadata": {},
   "outputs": [],
   "source": []
  },
  {
   "cell_type": "code",
   "execution_count": null,
   "id": "3615e4fd",
   "metadata": {},
   "outputs": [],
   "source": []
  }
 ],
 "metadata": {
  "kernelspec": {
   "display_name": "segformer",
   "language": "python",
   "name": "python3"
  },
  "language_info": {
   "codemirror_mode": {
    "name": "ipython",
    "version": 3
   },
   "file_extension": ".py",
   "mimetype": "text/x-python",
   "name": "python",
   "nbconvert_exporter": "python",
   "pygments_lexer": "ipython3",
   "version": "3.11.13"
  }
 },
 "nbformat": 4,
 "nbformat_minor": 5
}
